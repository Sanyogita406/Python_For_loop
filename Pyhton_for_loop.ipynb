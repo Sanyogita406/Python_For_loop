{
  "nbformat": 4,
  "nbformat_minor": 0,
  "metadata": {
    "colab": {
      "provenance": []
    },
    "kernelspec": {
      "name": "python3",
      "display_name": "Python 3"
    },
    "language_info": {
      "name": "python"
    }
  },
  "cells": [
    {
      "cell_type": "code",
      "execution_count": null,
      "metadata": {
        "id": "E7E_TOQXOHiC",
        "colab": {
          "base_uri": "https://localhost:8080/"
        },
        "outputId": "ec40c004-6a70-459e-cfb8-2bd86edd79d1"
      },
      "outputs": [
        {
          "output_type": "stream",
          "name": "stdout",
          "text": [
            "1\n",
            "2\n",
            "3\n",
            "4\n",
            "5\n",
            "6\n",
            "7\n",
            "8\n",
            "9\n",
            "10\n"
          ]
        }
      ],
      "source": [
        "#1. Write a python program to print the numbers from 1 to 10 using a 'for' loop\n",
        "\n",
        "for i in range(1,11):\n",
        "  print(i)"
      ]
    },
    {
      "cell_type": "code",
      "source": [
        "#2. Create a program that calculates the sum of all numbers in a list using a 'for' loop\n",
        "n = input(\"Enter value of n:\")\n",
        "n = int(n)\n",
        "total_sum = 0\n",
        "for i in range (1,n+1):\n",
        "   total_sum = total_sum + i\n",
        "print(\"Total sum is:\" , total_sum)"
      ],
      "metadata": {
        "id": "OKAnEfXEOca-",
        "colab": {
          "base_uri": "https://localhost:8080/"
        },
        "outputId": "460e0b8d-5a01-436c-bd89-70b7376a6e38"
      },
      "execution_count": null,
      "outputs": [
        {
          "output_type": "stream",
          "name": "stdout",
          "text": [
            "Enter value of n:5\n",
            "Total sum is: 15\n"
          ]
        }
      ]
    },
    {
      "cell_type": "code",
      "source": [
        "#3. Write a program to print the characters of a string in a reverse  order using a 'for' loop\n",
        "\n",
        "def reverse (s):\n",
        "  str = \"\"\n",
        "  for i in s:\n",
        "     str = i + str\n",
        "  return str\n",
        "s = \"Sanyogita  Singh\"\n",
        "print(\"The original string is:\" , end = \"\")\n",
        "print(s)\n",
        "print(\"The reversed string is:\" , end = \"\")\n",
        "print(reverse(s))"
      ],
      "metadata": {
        "id": "qEkMnZBJOtEh",
        "colab": {
          "base_uri": "https://localhost:8080/"
        },
        "outputId": "41e8ab91-e1a1-4f99-b939-be091fb433bd"
      },
      "execution_count": null,
      "outputs": [
        {
          "output_type": "stream",
          "name": "stdout",
          "text": [
            "The original string is:Sanyogita  Singh\n",
            "The reversed string is:hgniS  atigoynaS\n"
          ]
        }
      ]
    },
    {
      "cell_type": "code",
      "source": [
        "#4. Develop a program that finds the factorial of a given number using a 'for' loop\n",
        "\n",
        "n = int(input(\"Ente n:\"))\n",
        "fact = 1\n",
        "for i in range (2, n+1):\n",
        "  fact *= i\n",
        "print(\"Factorial of {} is: {}\".format(n,fact))"
      ],
      "metadata": {
        "id": "w7l9BA0oPAQ9",
        "colab": {
          "base_uri": "https://localhost:8080/"
        },
        "outputId": "2db2db87-7c8f-4766-918b-6eda22c0ab53"
      },
      "execution_count": null,
      "outputs": [
        {
          "output_type": "stream",
          "name": "stdout",
          "text": [
            "Ente n:6\n",
            "Factorial of 6 is: 720\n"
          ]
        }
      ]
    },
    {
      "cell_type": "code",
      "source": [
        "#5. Create a program to print the multiplication table of a given number using a 'for' loop\n",
        "\n",
        "ourNum = int(input(\"Enter the number you want to generate a multiplication table for\"))\n",
        "ourRange = range(1,6)\n",
        "for x in ourRange:\n",
        "  result = ourNum * x\n",
        "  print(ourNum,\" * \",x,\" = \",result)"
      ],
      "metadata": {
        "id": "hE3mXrE1PYf_",
        "colab": {
          "base_uri": "https://localhost:8080/"
        },
        "outputId": "309d8869-d168-4ae1-9bf9-fca5c22f886d"
      },
      "execution_count": null,
      "outputs": [
        {
          "output_type": "stream",
          "name": "stdout",
          "text": [
            "Enter the number you want to generate a multiplication table for8\n",
            "8  *  1  =  8\n",
            "8  *  2  =  16\n",
            "8  *  3  =  24\n",
            "8  *  4  =  32\n",
            "8  *  5  =  40\n"
          ]
        }
      ]
    },
    {
      "cell_type": "code",
      "source": [
        "#6.Write a program that counts the number of even and odd numbers in a list using 'for' loop\n",
        "\n",
        "int_list = [1,2,3,4,5,6,7,8,9,10]\n",
        "odd_list, even_list = [] ,[]\n",
        "for i in int_list:\n",
        "  if i % 2 == 1:\n",
        "    odd_list.append(i)\n",
        "  else:\n",
        "    even_list.append(i)\n",
        "print (even_list)\n",
        "print (odd_list)"
      ],
      "metadata": {
        "id": "DzZMHmM7Prz1",
        "colab": {
          "base_uri": "https://localhost:8080/"
        },
        "outputId": "37898880-5d69-41ef-bab3-fa13538584bc"
      },
      "execution_count": null,
      "outputs": [
        {
          "output_type": "stream",
          "name": "stdout",
          "text": [
            "[2, 4, 6, 8, 10]\n",
            "[1, 3, 5, 7, 9]\n"
          ]
        }
      ]
    },
    {
      "cell_type": "code",
      "source": [
        "#7. Develop a program that prints the squares of numbers from 1-5 using a 'for' loop\n",
        "\n",
        "def squaresum(n):\n",
        "   sm = 0\n",
        "   for i in range(1, n+1):\n",
        "     sm = sm + (i * i)\n",
        "   return sm\n",
        "n = 4\n",
        "print(squaresum(n))"
      ],
      "metadata": {
        "id": "uVrOcMKzP-1T",
        "colab": {
          "base_uri": "https://localhost:8080/"
        },
        "outputId": "a333718e-db76-4882-e894-39e06acb2be8"
      },
      "execution_count": null,
      "outputs": [
        {
          "output_type": "stream",
          "name": "stdout",
          "text": [
            "30\n"
          ]
        }
      ]
    },
    {
      "cell_type": "code",
      "source": [
        "#8. Create a program to find the length of a string without using the 'len()' function\n",
        "\n",
        "string = 'Hello World'\n",
        "count = 0\n",
        "for i in string:\n",
        "  count += 1\n",
        "print(count)"
      ],
      "metadata": {
        "id": "2FiwePHEQPFR",
        "colab": {
          "base_uri": "https://localhost:8080/"
        },
        "outputId": "08636d7c-edba-4d0e-fddb-f1822b5af396"
      },
      "execution_count": null,
      "outputs": [
        {
          "output_type": "stream",
          "name": "stdout",
          "text": [
            "11\n"
          ]
        }
      ]
    },
    {
      "cell_type": "code",
      "source": [
        "#9. Write a program that calculates the average of a list of numbers using a 'for' loop\n",
        "\n",
        "n = int(input(\"Enter the number of elements to be inserted:\"))\n",
        "a = []\n",
        "for i in range(0,n):\n",
        "  elem = int(input(\"Enter element:\"))\n",
        "  a.append(elem)\n",
        "avg = sum(a)/n\n",
        "print(\"Average of elements in the list\",round(avg,2))"
      ],
      "metadata": {
        "id": "okXAn2zVQfRR",
        "colab": {
          "base_uri": "https://localhost:8080/"
        },
        "outputId": "87cad5e5-7ca8-4d5f-8121-b820aeb5405d"
      },
      "execution_count": null,
      "outputs": [
        {
          "output_type": "stream",
          "name": "stdout",
          "text": [
            "Enter the number of elements to be inserted:3\n",
            "Enter element:23\n",
            "Enter element:45\n",
            "Enter element:56\n",
            "Average of elements in the list 41.33\n"
          ]
        }
      ]
    },
    {
      "cell_type": "code",
      "source": [
        "#10. Develop a program that prints the first 'n' fibonacci numbers using a 'for' loop\n",
        "\n",
        "a,b = 0,1\n",
        "series_length = 18\n",
        "print(a,b,end=' ')\n",
        "for i in range(series_length):\n",
        "  c = a + b\n",
        "  print(c,end=' ')\n",
        "  a=b\n",
        "  b=c"
      ],
      "metadata": {
        "id": "p_2npsSYQu8I",
        "colab": {
          "base_uri": "https://localhost:8080/"
        },
        "outputId": "2d160116-ef74-46b5-89bd-be17902dd9c2"
      },
      "execution_count": null,
      "outputs": [
        {
          "output_type": "stream",
          "name": "stdout",
          "text": [
            "0 1 1 2 3 5 8 13 21 34 55 89 144 233 377 610 987 1597 2584 4181 "
          ]
        }
      ]
    },
    {
      "cell_type": "code",
      "source": [
        "#11. Write a program to check if a given list contains any duplicates using a 'for' loop\n",
        "\n",
        "class Solution:\n",
        "   def duplicate(self,list1):\n",
        "      new_value = set(list1)\n",
        "      if len(new_value) == len(list1):\n",
        "          return \"false\"\n",
        "      else:\n",
        "          return \"true\"\n",
        "nums = [1,2,3,1]\n",
        "obj = Solution()\n",
        "print(obj.duplicate(nums))"
      ],
      "metadata": {
        "id": "NDj6m1WiQ6ep",
        "colab": {
          "base_uri": "https://localhost:8080/"
        },
        "outputId": "fa94bedf-ab04-4047-9d60-be786cb3f9d1"
      },
      "execution_count": null,
      "outputs": [
        {
          "output_type": "stream",
          "name": "stdout",
          "text": [
            "true\n"
          ]
        }
      ]
    },
    {
      "cell_type": "code",
      "source": [
        "#12. Create a program that prints the prime numbers in a given range using a 'for' loop\n",
        "\n",
        "num = int(input(\"Enter the number:\"))\n",
        "if num > 1:\n",
        "  for i in range(2,num):\n",
        "    if(num % i) == 0:\n",
        "      print(num,\"is not a prime number\")\n",
        "      print(i,\"times\",num//i,\"is\",num)\n",
        "      break\n",
        "    else:\n",
        "      print(num,\"is a prime nummber\")\n",
        "else:\n",
        "    print(num,\"is not a prime number\")"
      ],
      "metadata": {
        "id": "JxF4E9y9RL2R",
        "colab": {
          "base_uri": "https://localhost:8080/"
        },
        "outputId": "644cf9f7-3e89-41fe-a438-c668d607274d"
      },
      "execution_count": null,
      "outputs": [
        {
          "output_type": "stream",
          "name": "stdout",
          "text": [
            "Enter the number:10\n",
            "10 is not a prime number\n",
            "2 times 5 is 10\n"
          ]
        }
      ]
    },
    {
      "cell_type": "code",
      "source": [
        "#13. Develop a program that counts the number of vowels in a string using a 'for' loop\n",
        "\n",
        "string = input(\"Enter string:\")\n",
        "vowels = 0\n",
        "for i in string:\n",
        "   if(i=='a' or i=='e' or i=='i' or i=='o' or i=='u' or i=='A' or i=='E' or i=='I' or i=='O' or i=='U'):\n",
        "         vowels=vowels+1\n",
        "print(\"Number of vowels are:\")\n",
        "print(vowels)"
      ],
      "metadata": {
        "id": "XGw16mhmRrMu",
        "colab": {
          "base_uri": "https://localhost:8080/"
        },
        "outputId": "ff760610-631c-4afc-f3e9-d512633763a1"
      },
      "execution_count": null,
      "outputs": [
        {
          "output_type": "stream",
          "name": "stdout",
          "text": [
            "Enter string:Hello World\n",
            "Number of vowels are:\n",
            "3\n"
          ]
        }
      ]
    },
    {
      "cell_type": "code",
      "source": [
        "#14. Write a program to find the maximum element in a 2D list using a nested 'for' loop\n",
        "\n",
        "def prod(lis):\n",
        "  maxi = 0\n",
        "  for x in lis:\n",
        "    p = 1\n",
        "    for i in x:\n",
        "      p *= i\n",
        "      maxi = max(p,maxi)\n",
        "  return maxi\n",
        "l = [[1,2,3],[4,5,6],[7,8,9]]\n",
        "print(prod(l))"
      ],
      "metadata": {
        "id": "ikbxGIW6R3bJ",
        "colab": {
          "base_uri": "https://localhost:8080/"
        },
        "outputId": "f7b377f4-e927-4ce2-8520-2f3dbc0d7df9"
      },
      "execution_count": null,
      "outputs": [
        {
          "output_type": "stream",
          "name": "stdout",
          "text": [
            "504\n"
          ]
        }
      ]
    },
    {
      "cell_type": "code",
      "source": [
        "#15. Create a program that removes all occurrences of a specific element from a list using a 'for' loop\n",
        "\n",
        "list = [10,20,10,30,10,40,10,50]\n",
        "n = 10\n",
        "print(\"Original list:\")\n",
        "print(list)\n",
        "for x in list:\n",
        "  if x == n:\n",
        "    list.remove(x)\n",
        "print(\"list after removingelements:\")\n",
        "print(list)"
      ],
      "metadata": {
        "id": "AlMdYFFgSEFz",
        "colab": {
          "base_uri": "https://localhost:8080/"
        },
        "outputId": "0d0cdf62-e584-4b9e-8e75-339b10e9d438"
      },
      "execution_count": null,
      "outputs": [
        {
          "output_type": "stream",
          "name": "stdout",
          "text": [
            "Original list:\n",
            "[10, 20, 10, 30, 10, 40, 10, 50]\n",
            "list after removingelements:\n",
            "[20, 30, 40, 50]\n"
          ]
        }
      ]
    },
    {
      "cell_type": "code",
      "source": [
        "#16. Develop a program that generates a multiplication table for numbers from 1 to 5 using a nested 'for' loop\n",
        "\n",
        "num = 5\n",
        "print(\"The multiplication table of\", num)\n",
        "for i in range(1,11):\n",
        "  print(f\"{num} *{i} = {num* i}\")"
      ],
      "metadata": {
        "id": "mUE6btfySbEM",
        "colab": {
          "base_uri": "https://localhost:8080/"
        },
        "outputId": "fdd9e9a4-e8e8-4131-c110-949ac97bb637"
      },
      "execution_count": null,
      "outputs": [
        {
          "output_type": "stream",
          "name": "stdout",
          "text": [
            "The multiplication table of 5\n",
            "5 *1 = 5\n",
            "5 *2 = 10\n",
            "5 *3 = 15\n",
            "5 *4 = 20\n",
            "5 *5 = 25\n",
            "5 *6 = 30\n",
            "5 *7 = 35\n",
            "5 *8 = 40\n",
            "5 *9 = 45\n",
            "5 *10 = 50\n"
          ]
        }
      ]
    },
    {
      "cell_type": "code",
      "source": [
        "#17. Write a program that converts a list a Fahrenheit temperatures to Celsius using a 'for' loop\n",
        "\n",
        "celsius = int(input(\"Enter the temperature in celsius:\\n\"))\n",
        "fahrenheit = (1.8 * celsius) + 32\n",
        "print(\"Temperature in Fahrenheit:\" , fahrenheit)"
      ],
      "metadata": {
        "id": "rLX2aSIYS-ro",
        "colab": {
          "base_uri": "https://localhost:8080/"
        },
        "outputId": "1f48fe70-aca4-411b-9611-0edecfefaa8a"
      },
      "execution_count": null,
      "outputs": [
        {
          "output_type": "stream",
          "name": "stdout",
          "text": [
            "Enter the temperature in celsius:\n",
            "10\n",
            "Temperature in Fahrenheit: 50.0\n"
          ]
        }
      ]
    },
    {
      "cell_type": "code",
      "source": [
        "#18. Create a program to print the common elements from two lists using a 'for' loop\n",
        "\n",
        "def common_member(a,b):\n",
        "  result = [i for i in a if i in b]\n",
        "  return result\n",
        "a = [1,2,3,4,5,6]\n",
        "b = [5,6,7,8,9,10]\n",
        "print(\"The common elements in the two lists are:\")\n",
        "print(common_member(a,b))"
      ],
      "metadata": {
        "id": "xis3w48TTUls",
        "colab": {
          "base_uri": "https://localhost:8080/"
        },
        "outputId": "c094d5bc-cc74-49be-d55a-f43beb84a3fa"
      },
      "execution_count": null,
      "outputs": [
        {
          "output_type": "stream",
          "name": "stdout",
          "text": [
            "The common elements in the two lists are:\n",
            "[5, 6]\n"
          ]
        }
      ]
    },
    {
      "cell_type": "code",
      "source": [
        "#19. Develop a program that prints the pattern of right angled trianges using a 'for' loop.Use * to draw the pattern\n",
        "\n",
        "rows = 5\n",
        "for i in range(rows):\n",
        "  for j in range(i + 1):\n",
        "      print(\"*\", end = ' ')\n",
        "  print()"
      ],
      "metadata": {
        "id": "Ri-kpE4dTjXI",
        "colab": {
          "base_uri": "https://localhost:8080/"
        },
        "outputId": "35cb04c3-4dca-4ca1-c95d-65f5ee53eea8"
      },
      "execution_count": null,
      "outputs": [
        {
          "output_type": "stream",
          "name": "stdout",
          "text": [
            "* \n",
            "* * \n",
            "* * * \n",
            "* * * * \n",
            "* * * * * \n"
          ]
        }
      ]
    },
    {
      "cell_type": "code",
      "source": [
        "#20. Write a program to find the greatest common divisor (GCD) of two numbers usinga for 'for' loop\n",
        "\n",
        "num1 = 36\n",
        "num2 = 60\n",
        "gcd = 1\n",
        "for i in range(1, min(num1, num2)):\n",
        "  if num1 % i == 0 and num2 % i == 0:\n",
        "    gcd = i\n",
        "print(\"GCD of\" , num1, \"and\", num2, \"is\", gcd)"
      ],
      "metadata": {
        "id": "atUQtBpbUAcu",
        "colab": {
          "base_uri": "https://localhost:8080/"
        },
        "outputId": "4cd78fcc-d932-43ab-e4fa-79820c62b09d"
      },
      "execution_count": null,
      "outputs": [
        {
          "output_type": "stream",
          "name": "stdout",
          "text": [
            "GCD of 36 and 60 is 12\n"
          ]
        }
      ]
    },
    {
      "cell_type": "code",
      "source": [
        "#21. Create a program that calculates the sum of the digits of numbers in a list using a list comprehension\n",
        "\n",
        "numlist = [12,34,56,78,90]\n",
        "out = []\n",
        "for x in numlist:\n",
        "  t = 0\n",
        "  for y in str(x):\n",
        "      t +=int(y)\n",
        "  out.append(t)\n",
        "print(out)"
      ],
      "metadata": {
        "id": "VZBcsvdtUSqU",
        "colab": {
          "base_uri": "https://localhost:8080/"
        },
        "outputId": "1bcd509d-252d-46e6-b356-b7426ad0d4c0"
      },
      "execution_count": null,
      "outputs": [
        {
          "output_type": "stream",
          "name": "stdout",
          "text": [
            "[3, 7, 11, 15, 9]\n"
          ]
        }
      ]
    },
    {
      "cell_type": "code",
      "source": [
        "#22. Write a program to find a prime factor of a given no using a for loop and list comprehension\n",
        "\n",
        "import math\n",
        "def primeFactors(n):\n",
        "    while n % 2 == 0:\n",
        "      print(2)\n",
        "      n = n // 2\n",
        "    for i in range(3,int(math.sqrt(n)) + 1,2):\n",
        "      while n % i == 0:\n",
        "        print(i)\n",
        "        n = n // i\n",
        "    if n > 2:\n",
        "      print(n)\n",
        "n = 315\n",
        "primeFactors(n)"
      ],
      "metadata": {
        "id": "uKgUl4SXUsnc",
        "colab": {
          "base_uri": "https://localhost:8080/"
        },
        "outputId": "93f476a2-8dbb-4c51-a4db-ed4f98c6520d"
      },
      "execution_count": null,
      "outputs": [
        {
          "output_type": "stream",
          "name": "stdout",
          "text": [
            "3\n",
            "3\n",
            "5\n",
            "7\n"
          ]
        }
      ]
    },
    {
      "cell_type": "code",
      "source": [
        "#23. Develop a program that extracts unique elements from a list and stores them in a new list using a list comprehension\n",
        "\n",
        "def unique_list(l):\n",
        "  x = []\n",
        "  for a in l:\n",
        "    if a not in x:\n",
        "      x.append(a)\n",
        "  return x\n",
        "print(unique_list([1,2,3,3,3,3,4,5]))"
      ],
      "metadata": {
        "id": "IXKu6R8cVYkz",
        "colab": {
          "base_uri": "https://localhost:8080/"
        },
        "outputId": "3316870a-6d08-415d-ccc3-1a44e725f612"
      },
      "execution_count": null,
      "outputs": [
        {
          "output_type": "stream",
          "name": "stdout",
          "text": [
            "[1, 2, 3, 4, 5]\n"
          ]
        }
      ]
    },
    {
      "cell_type": "code",
      "source": [
        "#24. Create a program that generates a list of all palindromic numbers up to a specified limit using a list comprehension\n",
        "\n",
        "def is_palindrome(num):\n",
        "  if len(str(num)) == 1:\n",
        "    return True\n",
        "  if str(num) [0] == str(num)[-1]:\n",
        "    return is_palindrome(str(num)[1:-1])\n",
        "  return False\n",
        "def palindromeNumbers(list_a):\n",
        "  c = 0\n",
        "  for i in list_a:\n",
        "    if is_palindrome(i):\n",
        "      print(i)\n",
        "      c += 1\n",
        "  print(\"Total palindrome nos. are\" , c)\n",
        "list_a = [10, 121, 133, 155, 141, 252]\n",
        "palindromeNumbers(list_a)"
      ],
      "metadata": {
        "id": "vkKrDs7KVyRW",
        "colab": {
          "base_uri": "https://localhost:8080/"
        },
        "outputId": "623726de-dac2-4515-ac3a-c96a0b531aa1"
      },
      "execution_count": 32,
      "outputs": [
        {
          "output_type": "stream",
          "name": "stdout",
          "text": [
            "121\n",
            "141\n",
            "252\n",
            "Total palindrome nos. are 3\n"
          ]
        }
      ]
    },
    {
      "cell_type": "code",
      "source": [
        "#25. Write a program to flatten a nested list comprehension\n",
        "\n",
        "my_list = [[1], [2,3], [4,5,6,7]]\n",
        "flat_list = []\n",
        "for sublist in my_list:\n",
        "  for num in sublist:\n",
        "    flat_list.append(num)\n",
        "print(flat_list)"
      ],
      "metadata": {
        "id": "e7lyhl5FWLrh",
        "colab": {
          "base_uri": "https://localhost:8080/"
        },
        "outputId": "b883b140-68e4-44de-bcf3-464ab3438ca1"
      },
      "execution_count": null,
      "outputs": [
        {
          "output_type": "stream",
          "name": "stdout",
          "text": [
            "[1, 2, 3, 4, 5, 6, 7]\n"
          ]
        }
      ]
    },
    {
      "cell_type": "code",
      "source": [
        "#26. Develop a program that computes a sum of even and odd numbers between 1 to 10 using list comprehension\n",
        "\n",
        "test_list = [1,2,3,4,5,6,7,8,9,10]\n",
        "print(\"The original list is:\" + str(test_list))\n",
        "odd_sum = 0\n",
        "even_sum = 0\n",
        "for sub in test_list:\n",
        "  for ele in str(sub):\n",
        "      if int(ele) % 2 == 0:\n",
        "        even_sum += int(ele)\n",
        "      else:\n",
        "        odd_sum += int(ele)\n",
        "print(\"Odd digit sum:\" + str(odd_sum))\n",
        "print(\"Even numbers sum:\" + str(even_sum))"
      ],
      "metadata": {
        "id": "Z0klJUrhWXVS",
        "colab": {
          "base_uri": "https://localhost:8080/"
        },
        "outputId": "e2877bcb-4c35-4cc5-89ac-1f11485d1ea0"
      },
      "execution_count": null,
      "outputs": [
        {
          "output_type": "stream",
          "name": "stdout",
          "text": [
            "The original list is:[1, 2, 3, 4, 5, 6, 7, 8, 9, 10]\n",
            "Odd digit sum:26\n",
            "Even numbers sum:20\n"
          ]
        }
      ]
    },
    {
      "cell_type": "code",
      "source": [
        "#27. Create a program that generates a list of squares of odd numbers between 1 and 10 using list comprehension\n",
        "\n",
        "data = [1,2,3,4,5,6,7,8,9,10]\n",
        "result = [i*i for i in data if i%2 != 0]\n",
        "print(result)"
      ],
      "metadata": {
        "id": "HUlZF1USWl4h",
        "colab": {
          "base_uri": "https://localhost:8080/"
        },
        "outputId": "fafba4c7-b021-4ae9-b460-3453501a0bf7"
      },
      "execution_count": null,
      "outputs": [
        {
          "output_type": "stream",
          "name": "stdout",
          "text": [
            "[1, 9, 25, 49, 81]\n"
          ]
        }
      ]
    },
    {
      "cell_type": "code",
      "source": [
        "#28 Write a program that combines two lists into a dictionary using list comprehension\n",
        "\n",
        "test_keys = [\"Sanyogita\" , \"Shailesh\" , \"Manan\"]\n",
        "test_values = [1,2,3]\n",
        "print(\"Original key list is:\" + str(test_keys))\n",
        "print(\"Original value list is:\" + str(test_values))\n",
        "res = {}\n",
        "for key in test_keys:\n",
        "  for value in test_values:\n",
        "    res[key] = value\n",
        "    test_values.remove(value)\n",
        "    break\n",
        "print(\"Resultant dictionary is:\" + str(res))"
      ],
      "metadata": {
        "id": "3bXhxIcpW-lb",
        "colab": {
          "base_uri": "https://localhost:8080/"
        },
        "outputId": "2a9657d1-b4fe-4304-e7e6-977c820e927c"
      },
      "execution_count": null,
      "outputs": [
        {
          "output_type": "stream",
          "name": "stdout",
          "text": [
            "Original key list is:['Sanyogita', 'Shailesh', 'Manan']\n",
            "Original value list is:[1, 2, 3]\n",
            "Resultant dictionary is:{'Sanyogita': 1, 'Shailesh': 2, 'Manan': 3}\n"
          ]
        }
      ]
    },
    {
      "cell_type": "code",
      "source": [
        "#29. Develop a program that extracts the vowels from a string and stores them in a list using a list comprehension\n",
        "\n",
        "test_list = [\"Keep\" , \"all\" , \"by\" , \"hmm\" , \"ohh\"]\n",
        "print(\"The original list is:\" + str(test_list))\n",
        "def vowelstart(s):\n",
        "  if (s[0] == \"a\" or s[0] ==\"e\" or s[0] ==\"i\" or s[0] == \"o\" or s[0] == \"u\"):\n",
        "    return True\n",
        "  return False\n",
        "res = []\n",
        "for sub in test_list:\n",
        "  if(vowelstart(sub)):\n",
        "    res.append(sub)\n",
        "print(\"The extracted words:\" + str(res))"
      ],
      "metadata": {
        "id": "SH38BxLAXL1N",
        "colab": {
          "base_uri": "https://localhost:8080/"
        },
        "outputId": "1570cccc-df75-41a4-c62f-bd8c977b5ea1"
      },
      "execution_count": null,
      "outputs": [
        {
          "output_type": "stream",
          "name": "stdout",
          "text": [
            "The original list is:['Keep', 'all', 'by', 'hmm', 'ohh']\n",
            "The extracted words:['all', 'ohh']\n"
          ]
        }
      ]
    },
    {
      "cell_type": "code",
      "source": [
        "#30. Create a program that removes all non numeric characters from a list of strings using a list comprehension\n",
        "\n",
        "test = \"There are 2 apples for 4 persons\"\n",
        "print(\"The original string:\" + test)\n",
        "res = [int(i) for i in test.split() if i.isdigit()]\n",
        "print(\"The numbers list is:\" + str(res))"
      ],
      "metadata": {
        "id": "19BW2FdtXdll",
        "colab": {
          "base_uri": "https://localhost:8080/"
        },
        "outputId": "ee05fdd0-2f14-4b34-b7b6-5975ba48b1c4"
      },
      "execution_count": null,
      "outputs": [
        {
          "output_type": "stream",
          "name": "stdout",
          "text": [
            "The original string:There are 2 apples for 4 persons\n",
            "The numbers list is:[2, 4]\n"
          ]
        }
      ]
    },
    {
      "cell_type": "code",
      "source": [
        "#31. Write a program to generate a list of prime numbers using the sieve of Eratosthenes algorithm and list comprehension\n",
        "\n",
        "def SieveOfEratosthenes(num):\n",
        "  prime = [True for i in range(num + 1)]\n",
        "  p = 2\n",
        "  while(p * p <= num):\n",
        "    if (prime[p] == True):\n",
        "      for i in range(p * p, num + 1, p):\n",
        "        prime[i] = False\n",
        "    p += 1\n",
        "  for p in range(2, num+1):\n",
        "    if prime[p]:\n",
        "      print(p)\n",
        "if __name__ == '__main__':\n",
        "  num = 30\n",
        "  print(\"Following are the prime numbers smaller\")\n",
        "  print(\"than or equal to\",  num)\n",
        "  SieveOfEratosthenes(num)"
      ],
      "metadata": {
        "id": "wxqzszXaXwoT",
        "colab": {
          "base_uri": "https://localhost:8080/"
        },
        "outputId": "de4402e3-35a3-45ef-b23d-c5efdd9d1a4b"
      },
      "execution_count": null,
      "outputs": [
        {
          "output_type": "stream",
          "name": "stdout",
          "text": [
            "Following are the prime numbers smaller\n",
            "than or equal to 30\n",
            "2\n",
            "3\n",
            "5\n",
            "7\n",
            "11\n",
            "13\n",
            "17\n",
            "19\n",
            "23\n",
            "29\n"
          ]
        }
      ]
    },
    {
      "cell_type": "code",
      "source": [
        "#32. Create a program that generates a list of all Pythagorean triplets up to a specified limit using list comprehension\n",
        "\n",
        "n = int(input(\"Enter the valueof n:\"))\n",
        "a = 0\n",
        "b = 0\n",
        "c = 0\n",
        "m = 2\n",
        "triples = []\n",
        "while c < n:\n",
        "  for i in range(1, m, 1):\n",
        "    a = m*m - i*i\n",
        "    b = 2*m*i\n",
        "    c = m*m + i*i\n",
        "    if c > n:\n",
        "      break\n",
        "    triples.append((a, b, c))\n",
        "  m += 1\n",
        "print(triples)"
      ],
      "metadata": {
        "id": "ziUL9l6DGyFT",
        "colab": {
          "base_uri": "https://localhost:8080/"
        },
        "outputId": "9363664e-a6d6-4b65-a206-69fd2b19c8bb"
      },
      "execution_count": null,
      "outputs": [
        {
          "output_type": "stream",
          "name": "stdout",
          "text": [
            "Enter the valueof n:17\n",
            "[(3, 4, 5), (8, 6, 10), (5, 12, 13), (15, 8, 17)]\n"
          ]
        }
      ]
    },
    {
      "cell_type": "code",
      "source": [
        "#33. Develop a program that generates a list of all possible combinations of two lists using list comprehension\n",
        "\n",
        "import itertools\n",
        "from itertools import permutations\n",
        "list_1 = [\"a\", \"b\", \"c\", \"d\"]\n",
        "list_2 = [1,4,9]\n",
        "unique_combinations = []\n",
        "permut = itertools.permutations(list_1, len(list_2))\n",
        "for comb in permut:\n",
        "  zipped = zip(comb, list_2)\n",
        "  unique_combinations.append(list(zipped))\n",
        "print(unique_combinations)"
      ],
      "metadata": {
        "id": "mZFf1mAiHQOA",
        "colab": {
          "base_uri": "https://localhost:8080/"
        },
        "outputId": "5662deb3-af86-4e7b-a596-586ed00fe36e"
      },
      "execution_count": null,
      "outputs": [
        {
          "output_type": "stream",
          "name": "stdout",
          "text": [
            "[[('a', 1), ('b', 4), ('c', 9)], [('a', 1), ('b', 4), ('d', 9)], [('a', 1), ('c', 4), ('b', 9)], [('a', 1), ('c', 4), ('d', 9)], [('a', 1), ('d', 4), ('b', 9)], [('a', 1), ('d', 4), ('c', 9)], [('b', 1), ('a', 4), ('c', 9)], [('b', 1), ('a', 4), ('d', 9)], [('b', 1), ('c', 4), ('a', 9)], [('b', 1), ('c', 4), ('d', 9)], [('b', 1), ('d', 4), ('a', 9)], [('b', 1), ('d', 4), ('c', 9)], [('c', 1), ('a', 4), ('b', 9)], [('c', 1), ('a', 4), ('d', 9)], [('c', 1), ('b', 4), ('a', 9)], [('c', 1), ('b', 4), ('d', 9)], [('c', 1), ('d', 4), ('a', 9)], [('c', 1), ('d', 4), ('b', 9)], [('d', 1), ('a', 4), ('b', 9)], [('d', 1), ('a', 4), ('c', 9)], [('d', 1), ('b', 4), ('a', 9)], [('d', 1), ('b', 4), ('c', 9)], [('d', 1), ('c', 4), ('a', 9)], [('d', 1), ('c', 4), ('b', 9)]]\n"
          ]
        }
      ]
    },
    {
      "cell_type": "code",
      "source": [
        "#34. Write a program that calculates the mean, median, mode of a list of numbers using list comprehension\n",
        "\n",
        "#Mean\n",
        "\n",
        "n_num = [1, 2, 3, 4, 5]\n",
        "n = len(n_num)\n",
        "get_sum = sum(n_num)\n",
        "mean = get_sum / n\n",
        "print(\"Mean / Average is: \" + str(mean))\n",
        "\n",
        "#Median\n",
        "\n",
        "n_num = [1, 2, 3, 4, 5]\n",
        "n = len(n_num)\n",
        "n_num.sort()\n",
        "if n % 2 == 0:\n",
        "  median1 = n_num[n//2]\n",
        "  median2 = n_num[n//2 - 1]\n",
        "  median = (median1 + median2)/2\n",
        "else:\n",
        "  median = n_num[n//2]\n",
        "print(\"Median is: \" + str(median))\n",
        "\n",
        "#Mode\n",
        "\n",
        "from collections import Counter\n",
        "n_num = [1, 2, 3, 4, 5, 5]\n",
        "n = len(n_num)\n",
        "data = Counter(n_num)\n",
        "get_mode = dict(data)\n",
        "mode = [k for k, v in get_mode.items() if v == max(list(data.values()))]\n",
        "if len(mode) == n:\n",
        "  get_mode = \"No mode found\"\n",
        "else:\n",
        "  get_mode = \"Mode is / are: \" + ','.join(map(str,mode))\n",
        "print(get_mode)"
      ],
      "metadata": {
        "colab": {
          "base_uri": "https://localhost:8080/"
        },
        "id": "LELU4RYcP9aL",
        "outputId": "dd68b162-cec4-47cb-febd-1bae4c8cb9e3"
      },
      "execution_count": 14,
      "outputs": [
        {
          "output_type": "stream",
          "name": "stdout",
          "text": [
            "Mean / Average is: 3.0\n",
            "Median is: 3\n",
            "Mode is / are: 5\n"
          ]
        }
      ]
    },
    {
      "cell_type": "code",
      "source": [
        "#35. Create a program that generates Pascal's triangle up to a specified number of rows using list comprehension\n",
        "\n",
        "n = 5\n",
        "for i in range(n):\n",
        "  print(' '*(n-i), end='')\n",
        "  print(''.join(map(str, str(11**i))))"
      ],
      "metadata": {
        "id": "19GhfOK4H5qJ",
        "colab": {
          "base_uri": "https://localhost:8080/"
        },
        "outputId": "c228188a-00b0-4d06-f8ac-7a452094b588"
      },
      "execution_count": 20,
      "outputs": [
        {
          "output_type": "stream",
          "name": "stdout",
          "text": [
            "     1\n",
            "    11\n",
            "   121\n",
            "  1331\n",
            " 14641\n"
          ]
        }
      ]
    },
    {
      "cell_type": "code",
      "source": [
        "#36. Develop a program that calculates the sum of the digits of a factorial of numbers from 1 to 5 using list comprehension\n",
        "\n",
        "input_list = [1, 2, 3, 4, 5]\n",
        "fact = 1\n",
        "for item in input_list:\n",
        "  for number in range(1,item+1):\n",
        "    fact = fact * number\n",
        "  print(\"Factorial of\", item, \"is\", fact)"
      ],
      "metadata": {
        "id": "SN6-3IiPI7XL",
        "colab": {
          "base_uri": "https://localhost:8080/"
        },
        "outputId": "ba8dd5e8-014e-4636-d698-962b759349c5"
      },
      "execution_count": 23,
      "outputs": [
        {
          "output_type": "stream",
          "name": "stdout",
          "text": [
            "Factorial of 1 is 1\n",
            "Factorial of 2 is 2\n",
            "Factorial of 3 is 12\n",
            "Factorial of 4 is 288\n",
            "Factorial of 5 is 34560\n"
          ]
        }
      ]
    },
    {
      "cell_type": "code",
      "source": [
        "#37. Write a program that finds the longest word in a sentence using list comprehension\n",
        "\n",
        "def longestword(s):\n",
        "  s = s.split()\n",
        "  print(max(s,key=len))\n",
        "if __name__ == \"__main__\":\n",
        "  s = \"be confident and be yourself\"\n",
        "  longestword(s)"
      ],
      "metadata": {
        "id": "pbNF5pSWJYK-",
        "colab": {
          "base_uri": "https://localhost:8080/"
        },
        "outputId": "0efa04a7-7675-4308-a09e-4d114e88e068"
      },
      "execution_count": null,
      "outputs": [
        {
          "output_type": "stream",
          "name": "stdout",
          "text": [
            "confident\n"
          ]
        }
      ]
    },
    {
      "cell_type": "code",
      "source": [
        "#38. Create a program that filters a list of strings to include only those with more than three vowels using list comprehension\n",
        "\n",
        "test_list = [\"Adventure\", \"is\", \"fun\"]\n",
        "print(\"The original list is:\" + str(test_list))\n",
        "res = \" \"\n",
        "max_len = 0\n",
        "for ele in test_list:\n",
        "  vow_len = len([el for el in ele if el in['a','e','i','o','u']])\n",
        "  if vow_len > max_len:\n",
        "    max_len = vow_len\n",
        "    res = ele\n",
        "print(\"Maximum vowels word:\" + str(res))"
      ],
      "metadata": {
        "id": "6dAzw6K8JuJL",
        "colab": {
          "base_uri": "https://localhost:8080/"
        },
        "outputId": "7d880700-6aee-4c01-cc6d-da28e51199fd"
      },
      "execution_count": null,
      "outputs": [
        {
          "output_type": "stream",
          "name": "stdout",
          "text": [
            "The original list is:['Adventure', 'is', 'fun']\n",
            "Maximum vowels word:Adventure\n"
          ]
        }
      ]
    },
    {
      "cell_type": "code",
      "source": [
        "#39. Develop a program that calculates the sum of the digits of numbers from 1 to 1000 using list comprehension\n",
        "\n",
        "sum = 0\n",
        "for i in range(1,1001):\n",
        "  sum += i\n",
        "print([sum])"
      ],
      "metadata": {
        "id": "sLaoUX0iKKTx",
        "colab": {
          "base_uri": "https://localhost:8080/"
        },
        "outputId": "36314471-7313-49d9-a1b0-1a6e3707c741"
      },
      "execution_count": null,
      "outputs": [
        {
          "output_type": "stream",
          "name": "stdout",
          "text": [
            "[500500]\n"
          ]
        }
      ]
    },
    {
      "cell_type": "code",
      "source": [
        "#40. Write a program that generates a list of prime palindromic numbers using list comprehension\n",
        "\n",
        "a = 0\n",
        "b = 500\n",
        "a += 1\n",
        "for i in range(a,b):\n",
        "  if (str(i) == str(i)[ ::-1]):\n",
        "    if(i>2):\n",
        "      for a in range(2,i):\n",
        "        y = True\n",
        "        if(i%a==0):\n",
        "          y = False\n",
        "          break\n",
        "      if y:\n",
        "        print(i)"
      ],
      "metadata": {
        "id": "MIK7WPjXKkkI",
        "colab": {
          "base_uri": "https://localhost:8080/"
        },
        "outputId": "89afeedb-7af7-4fb7-f1e3-837b00c319a9"
      },
      "execution_count": 21,
      "outputs": [
        {
          "output_type": "stream",
          "name": "stdout",
          "text": [
            "3\n",
            "5\n",
            "7\n",
            "11\n",
            "101\n",
            "131\n",
            "151\n",
            "181\n",
            "191\n",
            "313\n",
            "353\n",
            "373\n",
            "383\n"
          ]
        }
      ]
    }
  ]
}